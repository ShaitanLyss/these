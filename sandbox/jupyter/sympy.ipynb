{
 "cells": [
  {
   "cell_type": "code",
   "execution_count": 196,
   "id": "7d78e3a5-841a-4fae-b36a-7484410804f6",
   "metadata": {},
   "outputs": [],
   "source": [
    "import sympy\n",
    "from sympy import *\n",
    "from sympy.vector import *\n",
    "from sympy import symbols\n",
    "D = Derivative"
   ]
  },
  {
   "cell_type": "code",
   "execution_count": 73,
   "id": "6ba5c38e-55b9-4e1b-9535-618b4016d888",
   "metadata": {},
   "outputs": [
    {
     "name": "stdout",
     "output_type": "stream",
     "text": [
      "IPython console for SymPy 1.13.3 (Python 3.13.3-64-bit) (ground types: python)\n",
      "\n",
      "These commands were executed:\n",
      ">>> from sympy import *\n",
      ">>> x, y, z, t = symbols('x y z t')\n",
      ">>> k, m, n = symbols('k m n', integer=True)\n",
      ">>> f, g, h = symbols('f g h', cls=Function)\n",
      ">>> init_printing()\n",
      "\n",
      "Documentation can be found at https://docs.sympy.org/1.13.3/\n",
      "\n"
     ]
    }
   ],
   "source": [
    "init_session()"
   ]
  },
  {
   "cell_type": "code",
   "execution_count": 3,
   "id": "a3e2b6d9-024f-4ac7-aa58-a01653f7e20f",
   "metadata": {},
   "outputs": [
    {
     "data": {
      "text/latex": [
       "$\\displaystyle 2 \\sqrt{2}$"
      ],
      "text/plain": [
       "2⋅√2"
      ]
     },
     "execution_count": 3,
     "metadata": {},
     "output_type": "execute_result"
    }
   ],
   "source": [
    "sympy.sqrt(8)"
   ]
  },
  {
   "cell_type": "code",
   "execution_count": 4,
   "id": "cd9d7b7e-45a1-4eb7-9e49-22e3009d8421",
   "metadata": {},
   "outputs": [
    {
     "data": {
      "text/latex": [
       "$\\displaystyle x + 2 y$"
      ],
      "text/plain": [
       "x + 2⋅y"
      ]
     },
     "execution_count": 4,
     "metadata": {},
     "output_type": "execute_result"
    }
   ],
   "source": [
    "x, y = symbols('x y')\n",
    "expr = x + 2 * y\n",
    "expr"
   ]
  },
  {
   "cell_type": "code",
   "execution_count": 5,
   "id": "cb9296ac-d6e8-4d90-aae7-e34a0332ab7c",
   "metadata": {},
   "outputs": [
    {
     "data": {
      "text/latex": [
       "$\\displaystyle - e^{x} \\sin{\\left(x \\right)} + e^{x} \\cos{\\left(x \\right)}$"
      ],
      "text/plain": [
       "   x           x       \n",
       "- ℯ ⋅sin(x) + ℯ ⋅cos(x)"
      ]
     },
     "execution_count": 5,
     "metadata": {},
     "output_type": "execute_result"
    }
   ],
   "source": [
    "diff(cos(x) * exp(x), x)"
   ]
  },
  {
   "cell_type": "code",
   "execution_count": 339,
   "id": "5cfe0882-feea-4f87-8386-d810d38518e0",
   "metadata": {},
   "outputs": [
    {
     "name": "stdout",
     "output_type": "stream",
     "text": [
      "Base equation: \n"
     ]
    },
    {
     "data": {
      "text/latex": [
       "$\\displaystyle - c^{2} Δ u{\\left(x,t \\right)} - f{\\left(x,t \\right)} + \\frac{\\partial^{2}}{\\partial t^{2}} u{\\left(x,t \\right)} = 0$"
      ],
      "text/plain": [
       "                            2              \n",
       "   2                       ∂               \n",
       "- c ⋅Δ⋅u(x, t) - f(x, t) + ───(u(x, t)) = 0\n",
       "                             2             \n",
       "                           ∂t              "
      ]
     },
     "execution_count": 339,
     "metadata": {},
     "output_type": "execute_result"
    }
   ],
   "source": [
    "u = Function('u')(x, t)\n",
    "v = Function('v')(x, t)\n",
    "laplacian = Symbol('Δ')\n",
    "phi = Function('φ')(x)\n",
    "f = Function('f')(x, t)\n",
    "c = symbols('c')\n",
    "\n",
    "wave_eq = diff(u, t, 2) - c**2 * laplacian * u - f\n",
    "print(\"Base equation: \")\n",
    "Eq(wave_eq, 0)"
   ]
  },
  {
   "cell_type": "markdown",
   "id": "198987d0-2ceb-4b49-bd26-6950601ccc57",
   "metadata": {},
   "source": [
    "Réarrangons les termes, avec les fonctions inconnues à gauche et les connues à droite."
   ]
  },
  {
   "cell_type": "code",
   "execution_count": 340,
   "id": "9ca7a6d9-de20-49ae-be5c-aa0d5a65ed9c",
   "metadata": {},
   "outputs": [
    {
     "data": {
      "text/latex": [
       "$\\displaystyle - c^{2} Δ u{\\left(x,t \\right)} + \\frac{\\partial^{2}}{\\partial t^{2}} u{\\left(x,t \\right)} = f{\\left(x,t \\right)}$"
      ],
      "text/plain": [
       "                  2                    \n",
       "   2             ∂                     \n",
       "- c ⋅Δ⋅u(x, t) + ───(u(x, t)) = f(x, t)\n",
       "                   2                   \n",
       "                 ∂t                    "
      ]
     },
     "execution_count": 340,
     "metadata": {},
     "output_type": "execute_result"
    }
   ],
   "source": [
    "terms = Add.make_args(wave_eq)\n",
    "\n",
    "terms_with_u = [term for term in terms if term.has(u) or term.has(laplacian_u)]\n",
    "terms_without_u = [term for term in terms if not term.has(u) or term.has(laplacian_u)]\n",
    "\n",
    "lhs = Add(*terms_with_u)\n",
    "rhs = -Add(*terms_without_u)\n",
    "Eq(lhs, rhs)"
   ]
  },
  {
   "cell_type": "markdown",
   "id": "1c1f7ee2-d8e5-4b85-a065-c70de4d4c316",
   "metadata": {},
   "source": [
    "Introduisont la variable $v = \\frac{\\partial u}{\\partial t}$ afin de remplacer les dérivées secondes en temps en dérivée premières en temps.\n",
    "\n",
    "Cela permettra de simplifier l'écriture du schéma."
   ]
  },
  {
   "cell_type": "code",
   "execution_count": 341,
   "id": "ab392b35-c212-403e-a159-ea04f5d44422",
   "metadata": {},
   "outputs": [
    {
     "data": {
      "text/latex": [
       "$\\displaystyle \\left[ - c^{2} Δ u{\\left(x,t \\right)} + \\frac{\\partial}{\\partial t} v{\\left(x,t \\right)} = f{\\left(x,t \\right)}, \\  - v{\\left(x,t \\right)} + \\frac{\\partial}{\\partial t} u{\\left(x,t \\right)} = 0\\right]$"
      ],
      "text/plain": [
       "⎡   2             ∂                                 ∂              ⎤\n",
       "⎢- c ⋅Δ⋅u(x, t) + ──(v(x, t)) = f(x, t), -v(x, t) + ──(u(x, t)) = 0⎥\n",
       "⎣                 ∂t                                ∂t             ⎦"
      ]
     },
     "execution_count": 341,
     "metadata": {},
     "output_type": "execute_result"
    }
   ],
   "source": [
    "lhs = lhs.subs(diff(u, t, 2), diff(v, t))\n",
    "v_eq = diff(u, t) - v\n",
    "[Eq(lhs, rhs), Eq(v_eq, 0)]"
   ]
  },
  {
   "cell_type": "code",
   "execution_count": 342,
   "id": "d08ef653-510f-4f94-bdb6-e835dea6cbc5",
   "metadata": {},
   "outputs": [
    {
     "data": {
      "text/latex": [
       "$\\displaystyle 1$"
      ],
      "text/plain": [
       "1"
      ]
     },
     "execution_count": 342,
     "metadata": {},
     "output_type": "execute_result"
    }
   ],
   "source": [
    "order = ode_order(lhs, v)\n",
    "order"
   ]
  },
  {
   "cell_type": "code",
   "execution_count": 343,
   "id": "78957887-00b5-4e3c-a9e4-0790aee40b25",
   "metadata": {},
   "outputs": [
    {
     "data": {
      "text/latex": [
       "$\\displaystyle \\int \\left(- c^{2} Δ u{\\left(x,t \\right)} + \\frac{\\partial}{\\partial t} v{\\left(x,t \\right)}\\right) v{\\left(x,t \\right)}\\, dx = \\int f{\\left(x,t \\right)} v{\\left(x,t \\right)}\\, dx$"
      ],
      "text/plain": [
       "⌠                                                                 \n",
       "⎮ ⎛   2             ∂          ⎞              ⌠                   \n",
       "⎮ ⎜- c ⋅Δ⋅u(x, t) + ──(v(x, t))⎟⋅v(x, t) dx = ⎮ f(x, t)⋅v(x, t) dx\n",
       "⎮ ⎝                 ∂t         ⎠              ⌡                   \n",
       "⌡                                                                 "
      ]
     },
     "execution_count": 343,
     "metadata": {},
     "output_type": "execute_result"
    }
   ],
   "source": [
    "var_eq = Eq(Integral(lhs * v, x), Integral(rhs * v,x))\n",
    "var_eq"
   ]
  },
  {
   "cell_type": "markdown",
   "id": "4465a016-d82d-4b97-a5e5-791dcf599ec0",
   "metadata": {},
   "source": [
    "### Time discretization"
   ]
  },
  {
   "cell_type": "code",
   "execution_count": 344,
   "id": "ca0cca3b-976f-4fb3-891e-bb5da0256ddf",
   "metadata": {},
   "outputs": [],
   "source": [
    "theta = symbols('theta')\n",
    "t_curr, t_prev = symbols('t_n t_n-1')\n",
    "u_curr, u_prev = symbols('u^n u^n-1')\n",
    "v_curr, v_prev = symbols('v^n v^n-1')\n",
    "f_curr, f_prev = symbols('f^n f^n-1')\n",
    "\n",
    "k = symbols('k')# t_curr - t_prev # length of current time step\n",
    "exprs = (lhs, rhs, v_eq)\n",
    "res = [expr.subs(\n",
    "    diff(u, t),\n",
    "    (u_curr - u_prev) / k\n",
    ").subs(\n",
    "    diff(v, t),\n",
    "    (v_curr - v_prev) / k\n",
    ")\n",
    ".subs(\n",
    "    f,\n",
    "    theta * f_curr + (1 - theta) * f_prev\n",
    ")\n",
    ".subs(\n",
    "    v,\n",
    "    theta * v_curr + (1 - theta) * v_prev\n",
    ")\n",
    ".subs(\n",
    "    u,\n",
    "    theta * u_curr + (1 - theta) * u_prev\n",
    ")\n",
    "       for expr in exprs]\n",
    "# res = [expr.subs(theta, 0) for expr in res]\n",
    "lhs_d, rhs_d, v_eq_d = res"
   ]
  },
  {
   "cell_type": "markdown",
   "id": "42accde4-b586-49cd-b59e-808ab03d043e",
   "metadata": {},
   "source": [
    "Première équation discretisée :"
   ]
  },
  {
   "cell_type": "code",
   "execution_count": 345,
   "id": "fe832ba2-369a-459f-be97-96a70019b91d",
   "metadata": {},
   "outputs": [
    {
     "data": {
      "text/latex": [
       "$\\displaystyle - \\theta v^{n} - v^{n-1} \\left(1 - \\theta\\right) + \\frac{u^{n} - u^{n-1}}{k} = 0$"
      ],
      "text/plain": [
       "                       uⁿ - uⁿ⁻¹    \n",
       "-θ⋅vⁿ - vⁿ⁻¹⋅(1 - θ) + ───────── = 0\n",
       "                           k        "
      ]
     },
     "execution_count": 345,
     "metadata": {},
     "output_type": "execute_result"
    }
   ],
   "source": [
    "eq_1_d = Eq(v_eq_d, 0)\n",
    "eq_1_d"
   ]
  },
  {
   "cell_type": "markdown",
   "id": "07a66e87-005b-4fcd-987e-760d3c4c0f96",
   "metadata": {},
   "source": [
    "Seconde équation discretisée :"
   ]
  },
  {
   "cell_type": "code",
   "execution_count": 346,
   "id": "a77f8862-3d02-49e0-b7d8-939e49b3741c",
   "metadata": {},
   "outputs": [
    {
     "data": {
      "text/latex": [
       "$\\displaystyle - c^{2} Δ \\left(\\theta u^{n} + u^{n-1} \\left(1 - \\theta\\right)\\right) + \\frac{v^{n} - v^{n-1}}{k} = f^{n} \\theta + f^{n-1} \\left(1 - \\theta\\right)$"
      ],
      "text/plain": [
       "   2                           vⁿ - vⁿ⁻¹                      \n",
       "- c ⋅Δ⋅(θ⋅uⁿ + uⁿ⁻¹⋅(1 - θ)) + ───────── = fⁿ⋅θ + fⁿ⁻¹⋅(1 - θ)\n",
       "                                   k                          "
      ]
     },
     "execution_count": 346,
     "metadata": {},
     "output_type": "execute_result"
    }
   ],
   "source": [
    "eq_2_d = Eq(lhs_d, rhs_d)\n",
    "eq_2_d"
   ]
  },
  {
   "cell_type": "markdown",
   "id": "ff1dda19-3428-4479-bbb3-cde6158833e5",
   "metadata": {},
   "source": [
    "**Crank-Nicolson** ($\\theta = \\frac{1}{2}$)"
   ]
  },
  {
   "cell_type": "code",
   "execution_count": 347,
   "id": "bdcc8c65-0a17-4f49-a92b-722c1c955e66",
   "metadata": {
    "jupyter": {
     "source_hidden": true
    }
   },
   "outputs": [
    {
     "data": {
      "text/latex": [
       "$\\displaystyle - \\frac{v^{n}}{2} - \\frac{v^{n-1}}{2} + \\frac{u^{n} - u^{n-1}}{k} = 0$"
      ],
      "text/plain": [
       "  vⁿ   vⁿ⁻¹   uⁿ - uⁿ⁻¹    \n",
       "- ── - ──── + ───────── = 0\n",
       "  2     2         k        "
      ]
     },
     "execution_count": 347,
     "metadata": {},
     "output_type": "execute_result"
    }
   ],
   "source": [
    "eq_1_d.subs(theta, Rational(1, 2))"
   ]
  },
  {
   "cell_type": "code",
   "execution_count": 348,
   "id": "6c689d82-e774-437b-95be-00ad13400518",
   "metadata": {},
   "outputs": [
    {
     "data": {
      "text/latex": [
       "$\\displaystyle 0$"
      ],
      "text/plain": [
       "0"
      ]
     },
     "execution_count": 348,
     "metadata": {},
     "output_type": "execute_result"
    }
   ],
   "source": [
    "simplify(Laplacian(u + v))"
   ]
  },
  {
   "cell_type": "code",
   "execution_count": 336,
   "id": "426cff5a-ffc3-42dc-8c38-042d71815417",
   "metadata": {},
   "outputs": [
    {
     "data": {
      "text/latex": [
       "$\\displaystyle \\frac{\\partial^{2}}{\\partial x^{2}} u{\\left(x,t \\right)}$"
      ],
      "text/plain": [
       " 2          \n",
       "∂           \n",
       "───(u(x, t))\n",
       "  2         \n",
       "∂x          "
      ]
     },
     "execution_count": 336,
     "metadata": {},
     "output_type": "execute_result"
    }
   ],
   "source": [
    "simplify(D(u, x, 2) + D(u, y, 2))"
   ]
  },
  {
   "cell_type": "code",
   "execution_count": 381,
   "id": "cafc4ebf-6f8f-4c68-b902-5a39eb72742a",
   "metadata": {},
   "outputs": [
    {
     "data": {
      "text/latex": [
       "$\\displaystyle u^{n} \\left(c^{2} k^{2} \\theta^{2} Δ - 1\\right) = c^{2} k^{2} \\theta^{2} u^{n-1} Δ - c^{2} k^{2} \\theta u^{n-1} Δ - f^{n} k^{2} \\theta^{2} + f^{n-1} k^{2} \\theta^{2} - f^{n-1} k^{2} \\theta - k v^{n-1} - u^{n-1}$"
      ],
      "text/plain": [
       "   ⎛ 2  2  2      ⎞    2  2  2           2  2                2  2         2  2 ↪\n",
       "uⁿ⋅⎝c ⋅k ⋅θ ⋅Δ - 1⎠ = c ⋅k ⋅θ ⋅uⁿ⁻¹⋅Δ - c ⋅k ⋅θ⋅uⁿ⁻¹⋅Δ - fⁿ⋅k ⋅θ  + fⁿ⁻¹⋅k ⋅θ  ↪\n",
       "\n",
       "↪          2                  \n",
       "↪  - fⁿ⁻¹⋅k ⋅θ - k⋅vⁿ⁻¹ - uⁿ⁻¹"
      ]
     },
     "execution_count": 381,
     "metadata": {},
     "output_type": "execute_result"
    }
   ],
   "source": [
    "def mult_eq(eq, expr):\n",
    "    return Eq(eq.lhs * expr, eq.rhs * expr)\n",
    "\n",
    "a = eq_1_d.subs(v_curr, solve(eq_2_d, v_curr)[0])\n",
    "eq_1_d_s = Eq(u_curr, solve(a, u_curr)[0])\n",
    "eq_1_d_s = mult_eq(eq_1_d_s, denom(eq_1_d_s.rhs))\n",
    "eq_1_d_s"
   ]
  },
  {
   "cell_type": "code",
   "execution_count": 367,
   "id": "14f77f94-11ea-4ca3-8b81-56bfd514801c",
   "metadata": {},
   "outputs": [
    {
     "data": {
      "text/latex": [
       "$\\displaystyle v^{n} = c^{2} k \\theta u^{n} Δ - c^{2} k \\theta u^{n-1} Δ + c^{2} k u^{n-1} Δ + f^{n} k \\theta - f^{n-1} k \\theta + f^{n-1} k + v^{n-1}$"
      ],
      "text/plain": [
       "      2             2               2                                          ↪\n",
       "vⁿ = c ⋅k⋅θ⋅uⁿ⋅Δ - c ⋅k⋅θ⋅uⁿ⁻¹⋅Δ + c ⋅k⋅uⁿ⁻¹⋅Δ + fⁿ⋅k⋅θ - fⁿ⁻¹⋅k⋅θ + fⁿ⁻¹⋅k +  ↪\n",
       "\n",
       "↪     \n",
       "↪ vⁿ⁻¹"
      ]
     },
     "execution_count": 367,
     "metadata": {},
     "output_type": "execute_result"
    }
   ],
   "source": [
    "eq_2_d_s = Eq(v_curr, solve(eq_2_d, v_curr)[0])\n",
    "eq_2_d_s"
   ]
  },
  {
   "cell_type": "code",
   "execution_count": 390,
   "id": "2659f21d-840d-4cf2-b839-0d7b0dd79efd",
   "metadata": {},
   "outputs": [
    {
     "data": {
      "text/latex": [
       "$\\displaystyle \\int u^{n} \\left(c^{2} k^{2} \\theta^{2} Δ - 1\\right) φ{\\left(x \\right)}\\, dx = \\int \\left(c^{2} k^{2} \\theta^{2} u^{n-1} Δ - c^{2} k^{2} \\theta u^{n-1} Δ - f^{n} k^{2} \\theta^{2} + f^{n-1} k^{2} \\theta^{2} - f^{n-1} k^{2} \\theta - k v^{n-1} - u^{n-1}\\right) φ{\\left(x \\right)}\\, dx$"
      ],
      "text/plain": [
       "⌠                               ⌠                                              ↪\n",
       "⎮    ⎛ 2  2  2      ⎞           ⎮ ⎛ 2  2  2           2  2                2  2 ↪\n",
       "⎮ uⁿ⋅⎝c ⋅k ⋅θ ⋅Δ - 1⎠⋅φ(x) dx = ⎮ ⎝c ⋅k ⋅θ ⋅uⁿ⁻¹⋅Δ - c ⋅k ⋅θ⋅uⁿ⁻¹⋅Δ - fⁿ⋅k ⋅θ  ↪\n",
       "⌡                               ⌡                                              ↪\n",
       "\n",
       "↪                                                   \n",
       "↪          2  2         2                  ⎞        \n",
       "↪  + fⁿ⁻¹⋅k ⋅θ  - fⁿ⁻¹⋅k ⋅θ - k⋅vⁿ⁻¹ - uⁿ⁻¹⎠⋅φ(x) dx\n",
       "↪                                                   "
      ]
     },
     "execution_count": 390,
     "metadata": {},
     "output_type": "execute_result"
    }
   ],
   "source": [
    "\n",
    "\n",
    "def integ_eq(eq):\n",
    "    return Eq(Integral(eq.lhs, x), Integral(eq.rhs, x))\n",
    "\n",
    "def variational(eq):\n",
    "    return integ_eq(mult_eq(eq, phi))\n",
    "\n",
    "eq_1_v = variational(eq_1_d_s)\n",
    "eq_1_v"
   ]
  },
  {
   "cell_type": "code",
   "execution_count": 391,
   "id": "fd8a22d7-6e3a-4cd8-a99f-09176255ec52",
   "metadata": {},
   "outputs": [
    {
     "data": {
      "text/latex": [
       "$\\displaystyle \\int v^{n} φ{\\left(x \\right)}\\, dx = \\int \\left(c^{2} k \\theta u^{n} Δ - c^{2} k \\theta u^{n-1} Δ + c^{2} k u^{n-1} Δ + f^{n} k \\theta - f^{n-1} k \\theta + f^{n-1} k + v^{n-1}\\right) φ{\\left(x \\right)}\\, dx$"
      ],
      "text/plain": [
       "               ⌠                                                               ↪\n",
       "⌠              ⎮ ⎛ 2             2               2                             ↪\n",
       "⎮ vⁿ⋅φ(x) dx = ⎮ ⎝c ⋅k⋅θ⋅uⁿ⋅Δ - c ⋅k⋅θ⋅uⁿ⁻¹⋅Δ + c ⋅k⋅uⁿ⁻¹⋅Δ + fⁿ⋅k⋅θ - fⁿ⁻¹⋅k⋅ ↪\n",
       "⌡              ⌡                                                               ↪\n",
       "\n",
       "↪                           \n",
       "↪                  ⎞        \n",
       "↪ θ + fⁿ⁻¹⋅k + vⁿ⁻¹⎠⋅φ(x) dx\n",
       "↪                           "
      ]
     },
     "execution_count": 391,
     "metadata": {},
     "output_type": "execute_result"
    }
   ],
   "source": [
    "eq_2_v = variational(eq_2_d_s)\n",
    "eq_2_v"
   ]
  }
 ],
 "metadata": {
  "kernelspec": {
   "display_name": "Python 3 (ipykernel)",
   "language": "python",
   "name": "python3"
  },
  "language_info": {
   "codemirror_mode": {
    "name": "ipython",
    "version": 3
   },
   "file_extension": ".py",
   "mimetype": "text/x-python",
   "name": "python",
   "nbconvert_exporter": "python",
   "pygments_lexer": "ipython3",
   "version": "3.13.3"
  }
 },
 "nbformat": 4,
 "nbformat_minor": 5
}
