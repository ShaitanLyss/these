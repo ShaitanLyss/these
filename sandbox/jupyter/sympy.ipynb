{
 "cells": [
  {
   "cell_type": "code",
   "execution_count": 1,
   "id": "7d78e3a5-841a-4fae-b36a-7484410804f6",
   "metadata": {},
   "outputs": [],
   "source": [
    "import sympy\n",
    "from sympy import *\n",
    "from sympy.vector import *\n",
    "from sympy import symbols\n",
    "D = Derivative"
   ]
  },
  {
   "cell_type": "code",
   "execution_count": 2,
   "id": "6ba5c38e-55b9-4e1b-9535-618b4016d888",
   "metadata": {},
   "outputs": [
    {
     "name": "stdout",
     "output_type": "stream",
     "text": [
      "IPython console for SymPy 1.13.3 (Python 3.13.3-64-bit) (ground types: python)\n",
      "\n",
      "These commands were executed:\n",
      ">>> from sympy import *\n",
      ">>> x, y, z, t = symbols('x y z t')\n",
      ">>> k, m, n = symbols('k m n', integer=True)\n",
      ">>> f, g, h = symbols('f g h', cls=Function)\n",
      ">>> init_printing()\n",
      "\n",
      "Documentation can be found at https://docs.sympy.org/1.13.3/\n",
      "\n"
     ]
    }
   ],
   "source": [
    "init_session()"
   ]
  },
  {
   "cell_type": "code",
   "execution_count": 3,
   "id": "a3e2b6d9-024f-4ac7-aa58-a01653f7e20f",
   "metadata": {},
   "outputs": [
    {
     "data": {
      "text/latex": [
       "$\\displaystyle 2 \\sqrt{2}$"
      ],
      "text/plain": [
       "2⋅√2"
      ]
     },
     "execution_count": 3,
     "metadata": {},
     "output_type": "execute_result"
    }
   ],
   "source": [
    "sympy.sqrt(8)"
   ]
  },
  {
   "cell_type": "code",
   "execution_count": 4,
   "id": "cd9d7b7e-45a1-4eb7-9e49-22e3009d8421",
   "metadata": {},
   "outputs": [
    {
     "data": {
      "text/latex": [
       "$\\displaystyle x + 2 y$"
      ],
      "text/plain": [
       "x + 2⋅y"
      ]
     },
     "execution_count": 4,
     "metadata": {},
     "output_type": "execute_result"
    }
   ],
   "source": [
    "x, y = symbols('x y')\n",
    "expr = x + 2 * y\n",
    "expr"
   ]
  },
  {
   "cell_type": "code",
   "execution_count": 5,
   "id": "cb9296ac-d6e8-4d90-aae7-e34a0332ab7c",
   "metadata": {},
   "outputs": [
    {
     "data": {
      "text/latex": [
       "$\\displaystyle - e^{x} \\sin{\\left(x \\right)} + e^{x} \\cos{\\left(x \\right)}$"
      ],
      "text/plain": [
       "   x           x       \n",
       "- ℯ ⋅sin(x) + ℯ ⋅cos(x)"
      ]
     },
     "execution_count": 5,
     "metadata": {},
     "output_type": "execute_result"
    }
   ],
   "source": [
    "diff(cos(x) * exp(x), x)"
   ]
  },
  {
   "cell_type": "code",
   "execution_count": 6,
   "id": "5cfe0882-feea-4f87-8386-d810d38518e0",
   "metadata": {},
   "outputs": [
    {
     "name": "stdout",
     "output_type": "stream",
     "text": [
      "Base equation: \n"
     ]
    },
    {
     "data": {
      "text/latex": [
       "$\\displaystyle - c^{2} Δ u{\\left(x,t \\right)} - f{\\left(x,t \\right)} + \\frac{\\partial^{2}}{\\partial t^{2}} u{\\left(x,t \\right)} = 0$"
      ],
      "text/plain": [
       "                            2              \n",
       "   2                       ∂               \n",
       "- c ⋅Δ⋅u(x, t) - f(x, t) + ───(u(x, t)) = 0\n",
       "                             2             \n",
       "                           ∂t              "
      ]
     },
     "execution_count": 6,
     "metadata": {},
     "output_type": "execute_result"
    }
   ],
   "source": [
    "u = Function('u')(x, t)\n",
    "v = Function('v')(x, t)\n",
    "laplacian = Symbol('Δ')\n",
    "phi = Function('φ')(x)\n",
    "f = Function('f')(x, t)\n",
    "c = symbols('c')\n",
    "\n",
    "wave_eq = diff(u, t, 2) - c**2 * laplacian * u - f\n",
    "print(\"Base equation: \")\n",
    "Eq(wave_eq, 0)"
   ]
  },
  {
   "cell_type": "markdown",
   "id": "198987d0-2ceb-4b49-bd26-6950601ccc57",
   "metadata": {},
   "source": [
    "Réarrangons les termes, avec les fonctions inconnues à gauche et les connues à droite."
   ]
  },
  {
   "cell_type": "code",
   "execution_count": 7,
   "id": "9ca7a6d9-de20-49ae-be5c-aa0d5a65ed9c",
   "metadata": {},
   "outputs": [
    {
     "data": {
      "text/latex": [
       "$\\displaystyle - c^{2} Δ u{\\left(x,t \\right)} + \\frac{\\partial^{2}}{\\partial t^{2}} u{\\left(x,t \\right)} = f{\\left(x,t \\right)}$"
      ],
      "text/plain": [
       "                  2                    \n",
       "   2             ∂                     \n",
       "- c ⋅Δ⋅u(x, t) + ───(u(x, t)) = f(x, t)\n",
       "                   2                   \n",
       "                 ∂t                    "
      ]
     },
     "execution_count": 7,
     "metadata": {},
     "output_type": "execute_result"
    }
   ],
   "source": [
    "terms = Add.make_args(wave_eq)\n",
    "\n",
    "terms_with_u = [term for term in terms if term.has(u) or term.has(laplacian)]\n",
    "terms_without_u = [term for term in terms if not (term.has(u) or term.has(laplacian))]\n",
    "\n",
    "lhs = Add(*terms_with_u)\n",
    "rhs = -Add(*terms_without_u)\n",
    "Eq(lhs, rhs)"
   ]
  },
  {
   "cell_type": "markdown",
   "id": "1c1f7ee2-d8e5-4b85-a065-c70de4d4c316",
   "metadata": {},
   "source": [
    "Introduisont la variable $v = \\frac{\\partial u}{\\partial t}$ afin de remplacer les dérivées secondes en temps en dérivée premières en temps.\n",
    "\n",
    "Cela permettra de simplifier l'écriture du schéma."
   ]
  },
  {
   "cell_type": "code",
   "execution_count": 8,
   "id": "ab392b35-c212-403e-a159-ea04f5d44422",
   "metadata": {},
   "outputs": [
    {
     "data": {
      "text/latex": [
       "$\\displaystyle \\left[ - c^{2} Δ u{\\left(x,t \\right)} + \\frac{\\partial}{\\partial t} v{\\left(x,t \\right)} = f{\\left(x,t \\right)}, \\  - v{\\left(x,t \\right)} + \\frac{\\partial}{\\partial t} u{\\left(x,t \\right)} = 0\\right]$"
      ],
      "text/plain": [
       "⎡   2             ∂                                 ∂              ⎤\n",
       "⎢- c ⋅Δ⋅u(x, t) + ──(v(x, t)) = f(x, t), -v(x, t) + ──(u(x, t)) = 0⎥\n",
       "⎣                 ∂t                                ∂t             ⎦"
      ]
     },
     "execution_count": 8,
     "metadata": {},
     "output_type": "execute_result"
    }
   ],
   "source": [
    "lhs = lhs.subs(diff(u, t, 2), diff(v, t))\n",
    "v_eq = diff(u, t) - v\n",
    "[Eq(lhs, rhs), Eq(v_eq, 0)]"
   ]
  },
  {
   "cell_type": "code",
   "execution_count": 9,
   "id": "d08ef653-510f-4f94-bdb6-e835dea6cbc5",
   "metadata": {},
   "outputs": [
    {
     "data": {
      "text/latex": [
       "$\\displaystyle 1$"
      ],
      "text/plain": [
       "1"
      ]
     },
     "execution_count": 9,
     "metadata": {},
     "output_type": "execute_result"
    }
   ],
   "source": [
    "order = ode_order(lhs, v)\n",
    "order"
   ]
  },
  {
   "cell_type": "code",
   "execution_count": 10,
   "id": "78957887-00b5-4e3c-a9e4-0790aee40b25",
   "metadata": {},
   "outputs": [
    {
     "data": {
      "text/latex": [
       "$\\displaystyle \\int \\left(- c^{2} Δ u{\\left(x,t \\right)} + \\frac{\\partial}{\\partial t} v{\\left(x,t \\right)}\\right) v{\\left(x,t \\right)}\\, dx = \\int f{\\left(x,t \\right)} v{\\left(x,t \\right)}\\, dx$"
      ],
      "text/plain": [
       "⌠                                                                 \n",
       "⎮ ⎛   2             ∂          ⎞              ⌠                   \n",
       "⎮ ⎜- c ⋅Δ⋅u(x, t) + ──(v(x, t))⎟⋅v(x, t) dx = ⎮ f(x, t)⋅v(x, t) dx\n",
       "⎮ ⎝                 ∂t         ⎠              ⌡                   \n",
       "⌡                                                                 "
      ]
     },
     "execution_count": 10,
     "metadata": {},
     "output_type": "execute_result"
    }
   ],
   "source": [
    "var_eq = Eq(Integral(lhs * v, x), Integral(rhs * v,x))\n",
    "var_eq"
   ]
  },
  {
   "cell_type": "markdown",
   "id": "4465a016-d82d-4b97-a5e5-791dcf599ec0",
   "metadata": {},
   "source": [
    "### Time discretization"
   ]
  },
  {
   "cell_type": "code",
   "execution_count": 11,
   "id": "ca0cca3b-976f-4fb3-891e-bb5da0256ddf",
   "metadata": {},
   "outputs": [],
   "source": [
    "theta = symbols('theta')\n",
    "def time_discr_fns(name: str):\n",
    "    return map(lambda s: s(x), symbols(f'{name}^n {name}^n-1', cls=Function, commutative=True))\n",
    "t_curr, t_prev = time_discr_fns('t')\n",
    "u_curr, u_prev = time_discr_fns('u')\n",
    "v_curr, v_prev = time_discr_fns('v')\n",
    "f_curr, f_prev = time_discr_fns('f')\n",
    "\n",
    "k = symbols('k')# t_curr - t_prev # length of current time step\n",
    "exprs = (lhs, rhs, v_eq)\n",
    "res = [expr.subs(\n",
    "    diff(u, t),\n",
    "    (u_curr - u_prev) / k\n",
    ").subs(\n",
    "    diff(v, t),\n",
    "    (v_curr - v_prev) / k\n",
    ")\n",
    ".subs(\n",
    "    f,\n",
    "    theta * f_curr + (1 - theta) * f_prev\n",
    ")\n",
    ".subs(\n",
    "    v,\n",
    "    theta * v_curr + (1 - theta) * v_prev\n",
    ")\n",
    ".subs(\n",
    "    u,\n",
    "    theta * u_curr + (1 - theta) * u_prev\n",
    ")\n",
    "       for expr in exprs]\n",
    "# res = [expr.subs(theta, 0) for expr in res]\n",
    "lhs_d, rhs_d, v_eq_d = res"
   ]
  },
  {
   "cell_type": "markdown",
   "id": "42accde4-b586-49cd-b59e-808ab03d043e",
   "metadata": {},
   "source": [
    "Première équation discretisée :"
   ]
  },
  {
   "cell_type": "code",
   "execution_count": 12,
   "id": "fe832ba2-369a-459f-be97-96a70019b91d",
   "metadata": {},
   "outputs": [
    {
     "data": {
      "text/latex": [
       "$\\displaystyle - \\theta v^{n}{\\left(x \\right)} - \\left(1 - \\theta\\right) v^{n-1}{\\left(x \\right)} + \\frac{u^{n}{\\left(x \\right)} - u^{n-1}{\\left(x \\right)}}{k} = 0$"
      ],
      "text/plain": [
       "                             uⁿ(x) - uⁿ⁻¹(x)    \n",
       "-θ⋅vⁿ(x) - (1 - θ)⋅vⁿ⁻¹(x) + ─────────────── = 0\n",
       "                                    k           "
      ]
     },
     "execution_count": 12,
     "metadata": {},
     "output_type": "execute_result"
    }
   ],
   "source": [
    "eq_1_d = Eq(v_eq_d, 0)\n",
    "eq_1_d"
   ]
  },
  {
   "cell_type": "markdown",
   "id": "07a66e87-005b-4fcd-987e-760d3c4c0f96",
   "metadata": {},
   "source": [
    "Seconde équation discretisée :"
   ]
  },
  {
   "cell_type": "code",
   "execution_count": 13,
   "id": "a77f8862-3d02-49e0-b7d8-939e49b3741c",
   "metadata": {},
   "outputs": [
    {
     "data": {
      "text/latex": [
       "$\\displaystyle - c^{2} Δ \\left(\\theta u^{n}{\\left(x \\right)} + \\left(1 - \\theta\\right) u^{n-1}{\\left(x \\right)}\\right) + \\frac{v^{n}{\\left(x \\right)} - v^{n-1}{\\left(x \\right)}}{k} = \\theta f^{n}{\\left(x \\right)} + \\left(1 - \\theta\\right) f^{n-1}{\\left(x \\right)}$"
      ],
      "text/plain": [
       "   2                                 vⁿ(x) - vⁿ⁻¹(x)                            \n",
       "- c ⋅Δ⋅(θ⋅uⁿ(x) + (1 - θ)⋅uⁿ⁻¹(x)) + ─────────────── = θ⋅fⁿ(x) + (1 - θ)⋅fⁿ⁻¹(x)\n",
       "                                            k                                   "
      ]
     },
     "execution_count": 13,
     "metadata": {},
     "output_type": "execute_result"
    }
   ],
   "source": [
    "eq_2_d = Eq(lhs_d, rhs_d)\n",
    "eq_2_d"
   ]
  },
  {
   "cell_type": "markdown",
   "id": "ff1dda19-3428-4479-bbb3-cde6158833e5",
   "metadata": {},
   "source": [
    "**Crank-Nicolson** ($\\theta = \\frac{1}{2}$)"
   ]
  },
  {
   "cell_type": "code",
   "execution_count": 14,
   "id": "bdcc8c65-0a17-4f49-a92b-722c1c955e66",
   "metadata": {
    "jupyter": {
     "source_hidden": true
    }
   },
   "outputs": [
    {
     "data": {
      "text/latex": [
       "$\\displaystyle - \\frac{v^{n}{\\left(x \\right)}}{2} - \\frac{v^{n-1}{\\left(x \\right)}}{2} + \\frac{u^{n}{\\left(x \\right)} - u^{n-1}{\\left(x \\right)}}{k} = 0$"
      ],
      "text/plain": [
       "  vⁿ(x)   vⁿ⁻¹(x)   uⁿ(x) - uⁿ⁻¹(x)    \n",
       "- ───── - ─────── + ─────────────── = 0\n",
       "    2        2             k           "
      ]
     },
     "execution_count": 14,
     "metadata": {},
     "output_type": "execute_result"
    }
   ],
   "source": [
    "eq_1_d.subs(theta, Rational(1, 2))"
   ]
  },
  {
   "cell_type": "code",
   "execution_count": 15,
   "id": "cafc4ebf-6f8f-4c68-b902-5a39eb72742a",
   "metadata": {},
   "outputs": [
    {
     "data": {
      "text/latex": [
       "$\\displaystyle \\left(c^{2} k^{2} \\theta^{2} Δ - 1\\right) u^{n}{\\left(x \\right)} = c^{2} k^{2} \\theta^{2} Δ u^{n-1}{\\left(x \\right)} - c^{2} k^{2} \\theta Δ u^{n-1}{\\left(x \\right)} - k^{2} \\theta^{2} f^{n}{\\left(x \\right)} + k^{2} \\theta^{2} f^{n-1}{\\left(x \\right)} - k^{2} \\theta f^{n-1}{\\left(x \\right)} - k v^{n-1}{\\left(x \\right)} - u^{n-1}{\\left(x \\right)}$"
      ],
      "text/plain": [
       "⎛ 2  2  2      ⎞          2  2  2              2  2                2  2        ↪\n",
       "⎝c ⋅k ⋅θ ⋅Δ - 1⎠⋅uⁿ(x) = c ⋅k ⋅θ ⋅Δ⋅uⁿ⁻¹(x) - c ⋅k ⋅θ⋅Δ⋅uⁿ⁻¹(x) - k ⋅θ ⋅fⁿ(x)  ↪\n",
       "\n",
       "↪    2  2            2                                \n",
       "↪ + k ⋅θ ⋅fⁿ⁻¹(x) - k ⋅θ⋅fⁿ⁻¹(x) - k⋅vⁿ⁻¹(x) - uⁿ⁻¹(x)"
      ]
     },
     "execution_count": 15,
     "metadata": {},
     "output_type": "execute_result"
    }
   ],
   "source": [
    "def mult_eq(eq, expr):\n",
    "    return Eq(eq.lhs * expr, eq.rhs * expr)\n",
    "\n",
    "a = eq_1_d.subs(v_curr, solve(eq_2_d, v_curr)[0])\n",
    "eq_1_d_s = Eq(u_curr, solve(a, u_curr)[0])\n",
    "eq_1_d_s = mult_eq(eq_1_d_s, denom(eq_1_d_s.rhs))\n",
    "eq_1_d_s"
   ]
  },
  {
   "cell_type": "code",
   "execution_count": 16,
   "id": "14f77f94-11ea-4ca3-8b81-56bfd514801c",
   "metadata": {},
   "outputs": [
    {
     "data": {
      "text/latex": [
       "$\\displaystyle v^{n}{\\left(x \\right)} = c^{2} k \\theta Δ u^{n}{\\left(x \\right)} - c^{2} k \\theta Δ u^{n-1}{\\left(x \\right)} + c^{2} k Δ u^{n-1}{\\left(x \\right)} + k \\theta f^{n}{\\left(x \\right)} - k \\theta f^{n-1}{\\left(x \\right)} + k f^{n-1}{\\left(x \\right)} + v^{n-1}{\\left(x \\right)}$"
      ],
      "text/plain": [
       "         2                2                  2                                 ↪\n",
       "vⁿ(x) = c ⋅k⋅θ⋅Δ⋅uⁿ(x) - c ⋅k⋅θ⋅Δ⋅uⁿ⁻¹(x) + c ⋅k⋅Δ⋅uⁿ⁻¹(x) + k⋅θ⋅fⁿ(x) - k⋅θ⋅f ↪\n",
       "\n",
       "↪                             \n",
       "↪ ⁿ⁻¹(x) + k⋅fⁿ⁻¹(x) + vⁿ⁻¹(x)"
      ]
     },
     "execution_count": 16,
     "metadata": {},
     "output_type": "execute_result"
    }
   ],
   "source": [
    "eq_2_d_s = Eq(v_curr, solve(eq_2_d, v_curr)[0])\n",
    "eq_2_d_s"
   ]
  },
  {
   "cell_type": "code",
   "execution_count": 17,
   "id": "2659f21d-840d-4cf2-b839-0d7b0dd79efd",
   "metadata": {},
   "outputs": [
    {
     "data": {
      "text/latex": [
       "$\\displaystyle c^{2} k^{2} \\theta^{2} Δ \\int u^{n}{\\left(x \\right)} φ{\\left(x \\right)}\\, dx - \\int u^{n}{\\left(x \\right)} φ{\\left(x \\right)}\\, dx = c^{2} k^{2} \\theta^{2} Δ \\int u^{n-1}{\\left(x \\right)} φ{\\left(x \\right)}\\, dx - c^{2} k^{2} \\theta Δ \\int u^{n-1}{\\left(x \\right)} φ{\\left(x \\right)}\\, dx - k^{2} \\theta^{2} \\int f^{n}{\\left(x \\right)} φ{\\left(x \\right)}\\, dx + k^{2} \\theta^{2} \\int f^{n-1}{\\left(x \\right)} φ{\\left(x \\right)}\\, dx - k^{2} \\theta \\int f^{n-1}{\\left(x \\right)} φ{\\left(x \\right)}\\, dx - k \\int v^{n-1}{\\left(x \\right)} φ{\\left(x \\right)}\\, dx - \\int u^{n-1}{\\left(x \\right)} φ{\\left(x \\right)}\\, dx$"
      ],
      "text/plain": [
       " 2  2  2   ⌠                 ⌠                  2  2  2   ⌠                    ↪\n",
       "c ⋅k ⋅θ ⋅Δ⋅⎮ uⁿ(x)⋅φ(x) dx - ⎮ uⁿ(x)⋅φ(x) dx = c ⋅k ⋅θ ⋅Δ⋅⎮ uⁿ⁻¹(x)⋅φ(x) dx -  ↪\n",
       "           ⌡                 ⌡                            ⌡                    ↪\n",
       "\n",
       "↪  2  2     ⌠                    2  2 ⌠                  2  2 ⌠                ↪\n",
       "↪ c ⋅k ⋅θ⋅Δ⋅⎮ uⁿ⁻¹(x)⋅φ(x) dx - k ⋅θ ⋅⎮ fⁿ(x)⋅φ(x) dx + k ⋅θ ⋅⎮ fⁿ⁻¹(x)⋅φ(x) d ↪\n",
       "↪           ⌡                         ⌡                       ⌡                ↪\n",
       "\n",
       "↪      2   ⌠                     ⌠                   ⌠                \n",
       "↪ x - k ⋅θ⋅⎮ fⁿ⁻¹(x)⋅φ(x) dx - k⋅⎮ vⁿ⁻¹(x)⋅φ(x) dx - ⎮ uⁿ⁻¹(x)⋅φ(x) dx\n",
       "↪          ⌡                     ⌡                   ⌡                "
      ]
     },
     "execution_count": 17,
     "metadata": {},
     "output_type": "execute_result"
    }
   ],
   "source": [
    "\n",
    "\n",
    "def integ_eq(eq):\n",
    "    return Eq(Integral(eq.lhs, x), Integral(eq.rhs, x))\n",
    "\n",
    "def variational(eq):\n",
    "    return integ_eq(mult_eq(eq, phi))\n",
    "\n",
    "eq_1_v = variational(eq_1_d_s)\n",
    "a = expand(factor(expand(eq_1_v), deep=True))\n",
    "a"
   ]
  },
  {
   "cell_type": "code",
   "execution_count": 18,
   "id": "a7fb937e-80fc-4770-987c-a7097578526c",
   "metadata": {},
   "outputs": [
    {
     "data": {
      "text/latex": [
       "$\\displaystyle \\left\\{ \\int f^{n}{\\left(x \\right)} φ{\\left(x \\right)}\\, dx : - k^{2} \\theta^{2}, \\  \\int f^{n-1}{\\left(x \\right)} φ{\\left(x \\right)}\\, dx : k^{2} \\theta \\left(\\theta - 1\\right), \\  \\int u^{n-1}{\\left(x \\right)} φ{\\left(x \\right)}\\, dx : -1, \\  \\int v^{n-1}{\\left(x \\right)} φ{\\left(x \\right)}\\, dx : - k, \\  \\int ∇{\\left(u^{n-1}{\\left(x \\right)} \\right)} ∇{\\left(φ{\\left(x \\right)} \\right)}\\, dx : - c^{2} k^{2} \\theta \\left(\\theta - 1\\right)\\right\\}$"
      ],
      "text/plain": [
       "⎧⌠                  2  2  ⌠                   2            ⌠                   ↪\n",
       "⎨⎮ fⁿ(x)⋅φ(x) dx: -k ⋅θ , ⎮ fⁿ⁻¹(x)⋅φ(x) dx: k ⋅θ⋅(θ - 1), ⎮ uⁿ⁻¹(x)⋅φ(x) dx:  ↪\n",
       "⎩⌡                        ⌡                                ⌡                   ↪\n",
       "\n",
       "↪     ⌠                      ⌠                          2  2          ⎫\n",
       "↪ -1, ⎮ vⁿ⁻¹(x)⋅φ(x) dx: -k, ⎮ ∇(uⁿ⁻¹(x))⋅∇(φ(x)) dx: -c ⋅k ⋅θ⋅(θ - 1)⎬\n",
       "↪     ⌡                      ⌡                                        ⎭"
      ]
     },
     "execution_count": 18,
     "metadata": {},
     "output_type": "execute_result"
    }
   ],
   "source": [
    "nabla = symbols('∇', cls=Function)\n",
    "def decompose_integrals(expr):\n",
    "    args = Add.make_args(expr)\n",
    "    res = {}\n",
    "\n",
    "    for arg in args:\n",
    "        if isinstance(arg, Integral):\n",
    "            res.setdefault(arg, []).append(1)\n",
    "        elif isinstance(arg, Mul):\n",
    "            factors = Mul.make_args(arg)\n",
    "            integral = list(filter(lambda e: isinstance(e, Integral), factors))\n",
    "            coeff = Mul(*filter(lambda e: not isinstance(e, Integral), factors))\n",
    "            assert len(integral) == 1\n",
    "            integral = integral[0]\n",
    "\n",
    "            if coeff.has(laplacian):\n",
    "                # Integrate by parts to reduce spatial derivatives order\n",
    "                coeff /= laplacian\n",
    "                coeff = -coeff\n",
    "                \n",
    "                fns, dx = integral.args\n",
    "                f, shape = Mul.make_args(fns)\n",
    "                integral = Integral(nabla(f) * nabla(shape), dx)\n",
    "            \n",
    "            res.setdefault(integral, []).append(coeff)\n",
    "            \n",
    "\n",
    "        else:\n",
    "            raise Exception(\"Help\")\n",
    "\n",
    "    for key, coeffs in res.items():\n",
    "        res[key] = factor(Add(*coeffs), deep=True)\n",
    "        \n",
    "    return res\n",
    "\n",
    "\n",
    "a = expand(factor(expand(variational(eq_1_d_s)), deep=True))\n",
    "a\n",
    "dec = decompose_integrals(a.rhs)\n",
    "dec"
   ]
  },
  {
   "cell_type": "code",
   "execution_count": 19,
   "id": "d05306e6-1144-41d8-acec-4adb1d911549",
   "metadata": {},
   "outputs": [
    {
     "data": {
      "text/latex": [
       "$\\displaystyle - c^{2} k^{2} \\theta \\left(\\theta - 1\\right) \\int ∇{\\left(u^{n-1}{\\left(x \\right)} \\right)} ∇{\\left(φ{\\left(x \\right)} \\right)}\\, dx - k^{2} \\theta^{2} \\int f^{n}{\\left(x \\right)} φ{\\left(x \\right)}\\, dx + k^{2} \\theta \\left(\\theta - 1\\right) \\int f^{n-1}{\\left(x \\right)} φ{\\left(x \\right)}\\, dx - k \\int v^{n-1}{\\left(x \\right)} φ{\\left(x \\right)}\\, dx - \\int u^{n-1}{\\left(x \\right)} φ{\\left(x \\right)}\\, dx$"
      ],
      "text/plain": [
       "   2  2           ⌠                          2  2 ⌠                  2         ↪\n",
       "- c ⋅k ⋅θ⋅(θ - 1)⋅⎮ ∇(uⁿ⁻¹(x))⋅∇(φ(x)) dx - k ⋅θ ⋅⎮ fⁿ(x)⋅φ(x) dx + k ⋅θ⋅(θ -  ↪\n",
       "                  ⌡                               ⌡                            ↪\n",
       "\n",
       "↪    ⌠                     ⌠                   ⌠                \n",
       "↪ 1)⋅⎮ fⁿ⁻¹(x)⋅φ(x) dx - k⋅⎮ vⁿ⁻¹(x)⋅φ(x) dx - ⎮ uⁿ⁻¹(x)⋅φ(x) dx\n",
       "↪    ⌡                     ⌡                   ⌡                "
      ]
     },
     "execution_count": 19,
     "metadata": {},
     "output_type": "execute_result"
    }
   ],
   "source": [
    "def compose_integrals(decomposition: dict[Integral, Expr]):\n",
    "    return Add(*(Mul(coeff, integral) for integral, coeff in decomposition.items()))\n",
    "\n",
    "compose_integrals(dec)"
   ]
  },
  {
   "cell_type": "code",
   "execution_count": 20,
   "id": "297c980c-41d2-4f87-9dd9-f33b865fcaef",
   "metadata": {},
   "outputs": [],
   "source": [
    "def simplify_integrals(expr):\n",
    "    return compose_integrals(decompose_integrals(expr))"
   ]
  },
  {
   "cell_type": "code",
   "execution_count": 21,
   "id": "463c217b-0724-4812-893a-079d4b04e315",
   "metadata": {},
   "outputs": [
    {
     "data": {
      "text/latex": [
       "$\\displaystyle - c^{2} k^{2} \\theta^{2} \\int ∇{\\left(u^{n}{\\left(x \\right)} \\right)} ∇{\\left(φ{\\left(x \\right)} \\right)}\\, dx - \\int u^{n}{\\left(x \\right)} φ{\\left(x \\right)}\\, dx = - c^{2} k^{2} \\theta \\left(\\theta - 1\\right) \\int ∇{\\left(u^{n-1}{\\left(x \\right)} \\right)} ∇{\\left(φ{\\left(x \\right)} \\right)}\\, dx - k^{2} \\theta^{2} \\int f^{n}{\\left(x \\right)} φ{\\left(x \\right)}\\, dx + k^{2} \\theta \\left(\\theta - 1\\right) \\int f^{n-1}{\\left(x \\right)} φ{\\left(x \\right)}\\, dx - k \\int v^{n-1}{\\left(x \\right)} φ{\\left(x \\right)}\\, dx - \\int u^{n-1}{\\left(x \\right)} φ{\\left(x \\right)}\\, dx$"
      ],
      "text/plain": [
       "   2  2  2 ⌠                       ⌠                    2  2           ⌠       ↪\n",
       "- c ⋅k ⋅θ ⋅⎮ ∇(uⁿ(x))⋅∇(φ(x)) dx - ⎮ uⁿ(x)⋅φ(x) dx = - c ⋅k ⋅θ⋅(θ - 1)⋅⎮ ∇(uⁿ⁻ ↪\n",
       "           ⌡                       ⌡                                   ⌡       ↪\n",
       "\n",
       "↪                     2  2 ⌠                  2           ⌠                    ↪\n",
       "↪ ¹(x))⋅∇(φ(x)) dx - k ⋅θ ⋅⎮ fⁿ(x)⋅φ(x) dx + k ⋅θ⋅(θ - 1)⋅⎮ fⁿ⁻¹(x)⋅φ(x) dx -  ↪\n",
       "↪                          ⌡                              ⌡                    ↪\n",
       "\n",
       "↪   ⌠                   ⌠                \n",
       "↪ k⋅⎮ vⁿ⁻¹(x)⋅φ(x) dx - ⎮ uⁿ⁻¹(x)⋅φ(x) dx\n",
       "↪   ⌡                   ⌡                "
      ]
     },
     "execution_count": 21,
     "metadata": {},
     "output_type": "execute_result"
    }
   ],
   "source": [
    "def simplify_variational(eq):\n",
    "    eq = expand(factor(expand(eq), deep=True))\n",
    "    return Eq(simplify_integrals(eq.lhs), simplify_integrals(eq.rhs))\n",
    "\n",
    "def simplified_variational(eq):\n",
    "    return simplify_variational(variational(eq))\n",
    "\n",
    "eq_1_v = simplified_variational(eq_1_d_s)\n",
    "eq_1_v"
   ]
  },
  {
   "cell_type": "code",
   "execution_count": 22,
   "id": "cb24e6ab-d790-4310-b1b3-36cc8be0b813",
   "metadata": {},
   "outputs": [
    {
     "data": {
      "text/latex": [
       "$\\displaystyle \\int v^{n}{\\left(x \\right)} φ{\\left(x \\right)}\\, dx = - c^{2} k \\theta \\int ∇{\\left(u^{n}{\\left(x \\right)} \\right)} ∇{\\left(φ{\\left(x \\right)} \\right)}\\, dx + c^{2} k \\left(\\theta - 1\\right) \\int ∇{\\left(u^{n-1}{\\left(x \\right)} \\right)} ∇{\\left(φ{\\left(x \\right)} \\right)}\\, dx + k \\theta \\int f^{n}{\\left(x \\right)} φ{\\left(x \\right)}\\, dx - k \\left(\\theta - 1\\right) \\int f^{n-1}{\\left(x \\right)} φ{\\left(x \\right)}\\, dx + \\int v^{n-1}{\\left(x \\right)} φ{\\left(x \\right)}\\, dx$"
      ],
      "text/plain": [
       "⌠                    2     ⌠                        2           ⌠              ↪\n",
       "⎮ vⁿ(x)⋅φ(x) dx = - c ⋅k⋅θ⋅⎮ ∇(uⁿ(x))⋅∇(φ(x)) dx + c ⋅k⋅(θ - 1)⋅⎮ ∇(uⁿ⁻¹(x))⋅∇ ↪\n",
       "⌡                          ⌡                                    ⌡              ↪\n",
       "\n",
       "↪                 ⌠                           ⌠                   ⌠            ↪\n",
       "↪ (φ(x)) dx + k⋅θ⋅⎮ fⁿ(x)⋅φ(x) dx - k⋅(θ - 1)⋅⎮ fⁿ⁻¹(x)⋅φ(x) dx + ⎮ vⁿ⁻¹(x)⋅φ( ↪\n",
       "↪                 ⌡                           ⌡                   ⌡            ↪\n",
       "\n",
       "↪      \n",
       "↪ x) dx\n",
       "↪      "
      ]
     },
     "execution_count": 22,
     "metadata": {},
     "output_type": "execute_result"
    }
   ],
   "source": [
    "eq_2_v = simplified_variational(eq_2_d_s)\n",
    "eq_2_v"
   ]
  },
  {
   "cell_type": "code",
   "execution_count": 23,
   "id": "6a9e3857-7e4f-4f2f-844d-ad0ed78deec7",
   "metadata": {},
   "outputs": [
    {
     "data": {
      "text/latex": [
       "$\\displaystyle u^{n}{\\left(x \\right)} = \\theta \\sum_{i=0}^{h} U^{n}_{i} \\phi^{n}_{i}{\\left(x \\right)} + \\sum_{i=0}^{h} U^{n}_{i} \\phi^{n}_{i}{\\left(x \\right)}$"
      ],
      "text/plain": [
       "            h                  h             \n",
       "           ___                ___            \n",
       "           ╲                  ╲              \n",
       "            ╲                  ╲             \n",
       "uⁿ(x) = θ⋅  ╱   Uⁿᵢ⋅φⁿᵢ(x) +   ╱   Uⁿᵢ⋅φⁿᵢ(x)\n",
       "           ╱                  ╱              \n",
       "           ‾‾‾                ‾‾‾            \n",
       "          i = 0              i = 0           "
      ]
     },
     "execution_count": 23,
     "metadata": {},
     "output_type": "execute_result"
    }
   ],
   "source": [
    "i, h, U_i_n = symbols(\"i h U^n_i\")\n",
    "shape_i_n = Function(\"phi^n_i\")(x)\n",
    "Eq(u_curr, Sum(U_i_n * shape_i_n, (i, 0, h)) + theta * Sum(U_i_n * shape_i_n, (i, 0, h)))"
   ]
  },
  {
   "cell_type": "code",
   "execution_count": 24,
   "id": "69a4a8e3-0348-48ae-8eac-b3f7aa7551b8",
   "metadata": {},
   "outputs": [
    {
     "data": {
      "text/latex": [
       "$\\displaystyle - c^{2} k^{2} \\theta^{2} \\int ∇{\\left(φ{\\left(x \\right)} \\right)} ∇{\\left(\\sum_{i=0}^{h} U^{N n}_{i}{\\left(i,x \\right)} \\phi^{n}_{i}{\\left(i,x \\right)} \\right)}\\, dx - \\int φ{\\left(x \\right)} \\sum_{i=0}^{h} U^{N n}_{i}{\\left(i,x \\right)} \\phi^{n}_{i}{\\left(i,x \\right)}\\, dx = - c^{2} k^{2} \\theta \\left(\\theta - 1\\right) \\int ∇{\\left(φ{\\left(x \\right)} \\right)} ∇{\\left(\\sum_{i=0}^{h} U^{N-1 n}_{i}{\\left(i,x \\right)} \\phi^{n}_{i}{\\left(i,x \\right)} \\right)}\\, dx - k^{2} \\theta^{2} \\int f^{n}{\\left(x \\right)} φ{\\left(x \\right)}\\, dx + k^{2} \\theta \\left(\\theta - 1\\right) \\int f^{n-1}{\\left(x \\right)} φ{\\left(x \\right)}\\, dx - k \\int φ{\\left(x \\right)} \\sum_{i=0}^{h} V^{N-1 n}_{i}{\\left(i,x \\right)} \\phi^{n}_{i}{\\left(i,x \\right)}\\, dx - \\int φ{\\left(x \\right)} \\sum_{i=0}^{h} U^{N-1 n}_{i}{\\left(i,x \\right)} \\phi^{n}_{i}{\\left(i,x \\right)}\\, dx$"
      ],
      "text/plain": [
       "           ⌠                                                 ⌠                 ↪\n",
       "           ⎮          ⎛  h                            ⎞      ⎮        h        ↪\n",
       "           ⎮          ⎜ ___                           ⎟      ⎮       ___       ↪\n",
       "           ⎮          ⎜ ╲                             ⎟      ⎮       ╲         ↪\n",
       "   2  2  2 ⎮          ⎜  ╲                            ⎟      ⎮        ╲        ↪\n",
       "- c ⋅k ⋅θ ⋅⎮ ∇(φ(x))⋅∇⎜  ╱   U_i__N__n(i, x)⋅φⁿᵢ(i, x)⎟ dx - ⎮ φ(x)⋅  ╱   U_i_ ↪\n",
       "           ⎮          ⎜ ╱                             ⎟      ⎮       ╱         ↪\n",
       "           ⎮          ⎜ ‾‾‾                           ⎟      ⎮       ‾‾‾       ↪\n",
       "           ⎮          ⎝i = 0                          ⎠      ⎮      i = 0      ↪\n",
       "           ⌡                                                 ⌡                 ↪\n",
       "\n",
       "↪                                              ⌠                               ↪\n",
       "↪                                              ⎮          ⎛  h                 ↪\n",
       "↪                                              ⎮          ⎜ ___                ↪\n",
       "↪                                              ⎮          ⎜ ╲                  ↪\n",
       "↪                               2  2           ⎮          ⎜  ╲                 ↪\n",
       "↪ _N__n(i, x)⋅φⁿᵢ(i, x) dx = - c ⋅k ⋅θ⋅(θ - 1)⋅⎮ ∇(φ(x))⋅∇⎜  ╱   U_i__N-1__n(i ↪\n",
       "↪                                              ⎮          ⎜ ╱                  ↪\n",
       "↪                                              ⎮          ⎜ ‾‾‾                ↪\n",
       "↪                                              ⎮          ⎝i = 0               ↪\n",
       "↪                                              ⌡                               ↪\n",
       "\n",
       "↪                                                                              ↪\n",
       "↪               ⎞                                                              ↪\n",
       "↪               ⎟                                                              ↪\n",
       "↪               ⎟                                                              ↪\n",
       "↪               ⎟       2  2 ⌠                  2           ⌠                  ↪\n",
       "↪ , x)⋅φⁿᵢ(i, x)⎟ dx - k ⋅θ ⋅⎮ fⁿ(x)⋅φ(x) dx + k ⋅θ⋅(θ - 1)⋅⎮ fⁿ⁻¹(x)⋅φ(x) dx  ↪\n",
       "↪               ⎟            ⌡                              ⌡                  ↪\n",
       "↪               ⎟                                                              ↪\n",
       "↪               ⎠                                                              ↪\n",
       "↪                                                                              ↪\n",
       "\n",
       "↪     ⌠                                             ⌠                          ↪\n",
       "↪     ⎮        h                                    ⎮        h                 ↪\n",
       "↪     ⎮       ___                                   ⎮       ___                ↪\n",
       "↪     ⎮       ╲                                     ⎮       ╲                  ↪\n",
       "↪     ⎮        ╲                                    ⎮        ╲                 ↪\n",
       "↪ - k⋅⎮ φ(x)⋅  ╱   V_i__N-1__n(i, x)⋅φⁿᵢ(i, x) dx - ⎮ φ(x)⋅  ╱   U_i__N-1__n(i ↪\n",
       "↪     ⎮       ╱                                     ⎮       ╱                  ↪\n",
       "↪     ⎮       ‾‾‾                                   ⎮       ‾‾‾                ↪\n",
       "↪     ⎮      i = 0                                  ⎮      i = 0               ↪\n",
       "↪     ⌡                                             ⌡                          ↪\n",
       "\n",
       "↪                  \n",
       "↪                  \n",
       "↪                  \n",
       "↪                  \n",
       "↪                  \n",
       "↪ , x)⋅φⁿᵢ(i, x) dx\n",
       "↪                  \n",
       "↪                  \n",
       "↪                  \n",
       "↪                  "
      ]
     },
     "execution_count": 24,
     "metadata": {},
     "output_type": "execute_result"
    }
   ],
   "source": [
    "from typing import Iterable\n",
    "\n",
    "def approximated_unknown(unknown: Function):\n",
    "    name = str(unknown.func).split(\"_\")[0]\n",
    "    i, h = symbols(f\"i h\")\n",
    "    coeff = Function(f\"{name.upper()}^n_i\")(i, x)\n",
    "    shape_i_n = Function(\"phi^n_i\")(i, x)\n",
    "    return Sum(coeff * shape_i_n, (i, 0, h))\n",
    "\n",
    "def approximate_unknowns(eq: Expr, unknowns: Iterable[Function]):\n",
    "    substitutions = {unknown: approximated_unknown(unknown) for unknown in unknowns}\n",
    "    return eq.subs(substitutions, simultaneous=True)\n",
    "\n",
    "time_discr_unknowns = (u_curr, u_prev, v_curr, v_prev)\n",
    "eq_1_f = approximate_unknowns(eq_1_v, time_discr_unknowns)\n",
    "eq_1_f"
   ]
  },
  {
   "cell_type": "code",
   "execution_count": 25,
   "id": "c8514e98-096d-4346-a704-d4f09b943862",
   "metadata": {},
   "outputs": [
    {
     "data": {
      "text/latex": [
       "$\\displaystyle \\int φ{\\left(x \\right)} \\sum_{i=0}^{h} U^{N n}_{i}{\\left(i,x \\right)} \\phi^{n}_{i}{\\left(i,x \\right)}\\, dx$"
      ],
      "text/plain": [
       "⌠                                        \n",
       "⎮        h                               \n",
       "⎮       ___                              \n",
       "⎮       ╲                                \n",
       "⎮        ╲                               \n",
       "⎮ φ(x)⋅  ╱   U_i__N__n(i, x)⋅φⁿᵢ(i, x) dx\n",
       "⎮       ╱                                \n",
       "⎮       ‾‾‾                              \n",
       "⎮      i = 0                             \n",
       "⌡                                        "
      ]
     },
     "execution_count": 25,
     "metadata": {},
     "output_type": "execute_result"
    }
   ],
   "source": [
    "def simplify_integral_of_sum(expr: Integral):\n",
    "    \n",
    "    return expr\n",
    "\n",
    "simplify_integral_of_sum(Integral(phi * approximated_unknown(u_curr), x))"
   ]
  },
  {
   "cell_type": "code",
   "execution_count": 26,
   "id": "b55abaef-35d8-4390-af35-3a3d8c3077c6",
   "metadata": {},
   "outputs": [
    {
     "data": {
      "text/latex": [
       "$\\displaystyle ∇{\\left(\\sum_{i=0}^{h} U^{N n}_{i}{\\left(i,x \\right)} \\phi^{n}_{i}{\\left(i,x \\right)} \\right)}$"
      ],
      "text/plain": [
       " ⎛  h                            ⎞\n",
       " ⎜ ___                           ⎟\n",
       " ⎜ ╲                             ⎟\n",
       " ⎜  ╲                            ⎟\n",
       "∇⎜  ╱   U_i__N__n(i, x)⋅φⁿᵢ(i, x)⎟\n",
       " ⎜ ╱                             ⎟\n",
       " ⎜ ‾‾‾                           ⎟\n",
       " ⎝i = 0                          ⎠"
      ]
     },
     "execution_count": 26,
     "metadata": {},
     "output_type": "execute_result"
    }
   ],
   "source": [
    "nabla = Function(\"∇\")\n",
    "simplify(nabla(approximated_unknown(u_curr)))"
   ]
  },
  {
   "cell_type": "code",
   "execution_count": 27,
   "id": "c97afdaa-76e4-4155-a4d1-742487715a34",
   "metadata": {},
   "outputs": [
    {
     "data": {
      "text/latex": [
       "$\\displaystyle - c^{2} k^{2} \\theta^{2} \\int ∇{\\left(u^{n}{\\left(x \\right)} \\right)} ∇{\\left(φ{\\left(x \\right)} \\right)}\\, dx - \\int u^{n}{\\left(x \\right)} φ{\\left(x \\right)}\\, dx = - c^{2} k^{2} \\theta \\left(\\theta - 1\\right) \\int ∇{\\left(u^{n-1}{\\left(x \\right)} \\right)} ∇{\\left(φ{\\left(x \\right)} \\right)}\\, dx - k^{2} \\theta^{2} \\int f^{n}{\\left(x \\right)} φ{\\left(x \\right)}\\, dx + k^{2} \\theta \\left(\\theta - 1\\right) \\int f^{n-1}{\\left(x \\right)} φ{\\left(x \\right)}\\, dx - k \\int v^{n-1}{\\left(x \\right)} φ{\\left(x \\right)}\\, dx - \\int u^{n-1}{\\left(x \\right)} φ{\\left(x \\right)}\\, dx$"
      ],
      "text/plain": [
       "   2  2  2 ⌠                       ⌠                    2  2           ⌠       ↪\n",
       "- c ⋅k ⋅θ ⋅⎮ ∇(uⁿ(x))⋅∇(φ(x)) dx - ⎮ uⁿ(x)⋅φ(x) dx = - c ⋅k ⋅θ⋅(θ - 1)⋅⎮ ∇(uⁿ⁻ ↪\n",
       "           ⌡                       ⌡                                   ⌡       ↪\n",
       "\n",
       "↪                     2  2 ⌠                  2           ⌠                    ↪\n",
       "↪ ¹(x))⋅∇(φ(x)) dx - k ⋅θ ⋅⎮ fⁿ(x)⋅φ(x) dx + k ⋅θ⋅(θ - 1)⋅⎮ fⁿ⁻¹(x)⋅φ(x) dx -  ↪\n",
       "↪                          ⌡                              ⌡                    ↪\n",
       "\n",
       "↪   ⌠                   ⌠                \n",
       "↪ k⋅⎮ vⁿ⁻¹(x)⋅φ(x) dx - ⎮ uⁿ⁻¹(x)⋅φ(x) dx\n",
       "↪   ⌡                   ⌡                "
      ]
     },
     "execution_count": 27,
     "metadata": {},
     "output_type": "execute_result"
    }
   ],
   "source": [
    "eq_1_v"
   ]
  },
  {
   "cell_type": "code",
   "execution_count": 28,
   "id": "36ad6bdc-aacc-463a-a4b8-ba5b785da327",
   "metadata": {},
   "outputs": [
    {
     "data": {
      "text/latex": [
       "$\\displaystyle \\int v^{n}{\\left(x \\right)} φ{\\left(x \\right)}\\, dx = - c^{2} k \\theta \\int ∇{\\left(u^{n}{\\left(x \\right)} \\right)} ∇{\\left(φ{\\left(x \\right)} \\right)}\\, dx + c^{2} k \\left(\\theta - 1\\right) \\int ∇{\\left(u^{n-1}{\\left(x \\right)} \\right)} ∇{\\left(φ{\\left(x \\right)} \\right)}\\, dx + k \\theta \\int f^{n}{\\left(x \\right)} φ{\\left(x \\right)}\\, dx - k \\left(\\theta - 1\\right) \\int f^{n-1}{\\left(x \\right)} φ{\\left(x \\right)}\\, dx + \\int v^{n-1}{\\left(x \\right)} φ{\\left(x \\right)}\\, dx$"
      ],
      "text/plain": [
       "⌠                    2     ⌠                        2           ⌠              ↪\n",
       "⎮ vⁿ(x)⋅φ(x) dx = - c ⋅k⋅θ⋅⎮ ∇(uⁿ(x))⋅∇(φ(x)) dx + c ⋅k⋅(θ - 1)⋅⎮ ∇(uⁿ⁻¹(x))⋅∇ ↪\n",
       "⌡                          ⌡                                    ⌡              ↪\n",
       "\n",
       "↪                 ⌠                           ⌠                   ⌠            ↪\n",
       "↪ (φ(x)) dx + k⋅θ⋅⎮ fⁿ(x)⋅φ(x) dx - k⋅(θ - 1)⋅⎮ fⁿ⁻¹(x)⋅φ(x) dx + ⎮ vⁿ⁻¹(x)⋅φ( ↪\n",
       "↪                 ⌡                           ⌡                   ⌡            ↪\n",
       "\n",
       "↪      \n",
       "↪ x) dx\n",
       "↪      "
      ]
     },
     "execution_count": 28,
     "metadata": {},
     "output_type": "execute_result"
    }
   ],
   "source": [
    "eq_2_v"
   ]
  },
  {
   "cell_type": "code",
   "execution_count": 81,
   "id": "688bf439-9dd7-4525-862d-18973651c024",
   "metadata": {},
   "outputs": [
    {
     "data": {
      "text/latex": [
       "$\\displaystyle \\int ∇{\\left(v^{n}{\\left(x \\right)} \\right)} ∇{\\left(φ{\\left(x \\right)} \\right)}\\, dx = \\sum_{i=0}^{h} V^{n}_{i} \\int ∇{\\left(\\phi^{n}_{i}{\\left(x \\right)} \\right)} ∇{\\left(\\phi^{n}_{j}{\\left(x \\right)} \\right)}\\, dx$"
      ],
      "text/plain": [
       "                         h                                   \n",
       "                        ____                                 \n",
       "                        ╲                                    \n",
       "                         ╲                                   \n",
       "⌠                         ╲       ⌠                          \n",
       "⎮ ∇(vⁿ(x))⋅∇(φ(x)) dx =   ╱   Vⁿᵢ⋅⎮ ∇(φⁿᵢ(x))⋅∇(φ_j__n(x)) dx\n",
       "⌡                        ╱        ⌡                          \n",
       "                        ╱                                    \n",
       "                        ‾‾‾‾                                 \n",
       "                        i = 0                                "
      ]
     },
     "execution_count": 81,
     "metadata": {},
     "output_type": "execute_result"
    }
   ],
   "source": [
    "shape_i_curr, shape_i_prev, shape_j_curr, shape_j_prev = map(lambda f: f(x), symbols('phi_i^n phi_i^n-1 phi_j^n phi_j^n-1', cls=Function))\n",
    "\n",
    "\n",
    "\n",
    "def space_discretize_integral(integral: Integral, unknowns: Iterable[Function], knowns: Iterable[Function]):\n",
    "    product, dx = integral.args\n",
    "    l, r = Mul.make_args(product)\n",
    "    assert r.has(phi), \"The shape function should be the right term.\"\n",
    "\n",
    "    \n",
    "\n",
    "    unknowns_present = tuple(filter(lambda unknown: l.has(unknown), unknowns))\n",
    "    assert len(unknowns_present) <= 1, \"At most one of the time discretized functions should be present.\"\n",
    "\n",
    "    if len(unknowns_present) == 0:\n",
    "        knowns_present = tuple(filter(lambda known: l.has(known), knowns))\n",
    "        assert len(knowns_present) == 1, \"One of the time discretized known functions should be present.\"\n",
    "        fn = knowns_present[0]\n",
    "        name, time_step = str(fn.func).split('^')\n",
    "        return Integral(l * Function(f'phi_j^{time_step}')(x))\n",
    "\n",
    "    fn = unknowns_present[0]\n",
    "    name, time_step = str(fn.func).split('^')\n",
    "\n",
    "    \n",
    "    \n",
    "    return Sum(Symbol(f'{name.upper()}_i^{time_step}') * Integral(l.subs(fn, Function(f'phi_i^n')(x)) * r.subs(phi, Function(f'phi_j^{time_step}')(x)), x), (i, 0, h))\n",
    "\n",
    "time_discr_knowns = (f_curr, f_prev)\n",
    "time_discr_fns = time_discr_unknowns + (f_curr, f_prev)\n",
    "integral =Integral(nabla(v_curr) * nabla(phi), x)\n",
    "res = space_discretize_integral(integral, time_discr_unknowns, time_discr_knowns)\n",
    "Eq(integral, res)"
   ]
  },
  {
   "cell_type": "code",
   "execution_count": 44,
   "id": "645b5258-c7f6-4831-bccb-df22ddbe7f66",
   "metadata": {},
   "outputs": [
    {
     "data": {
      "text/latex": [
       "$\\displaystyle - c^{2} k^{2} \\theta^{2} \\sum_{i=0}^{h} U^{n}_{i} \\int ∇{\\left(\\phi^{n}_{i}{\\left(x \\right)} \\right)} ∇{\\left(\\phi^{n}_{j}{\\left(x \\right)} \\right)}\\, dx - \\sum_{i=0}^{h} U^{n}_{i} \\int \\phi^{n}_{i}{\\left(x \\right)} \\phi^{n}_{j}{\\left(x \\right)}\\, dx = - c^{2} k^{2} \\theta \\left(\\theta - 1\\right) \\sum_{i=0}^{h} U^{n-1}_{i} \\int ∇{\\left(\\phi^{n}_{i}{\\left(x \\right)} \\right)} ∇{\\left(\\phi^{n-1}_{j}{\\left(x \\right)} \\right)}\\, dx - k^{2} \\theta^{2} \\int f^{n}{\\left(x \\right)} \\phi^{n}_{j}{\\left(x \\right)}\\, dx + k^{2} \\theta \\left(\\theta - 1\\right) \\int f^{n-1}{\\left(x \\right)} \\phi^{n-1}_{j}{\\left(x \\right)}\\, dx - k \\sum_{i=0}^{h} V^{n-1}_{i} \\int \\phi^{n}_{i}{\\left(x \\right)} \\phi^{n-1}_{j}{\\left(x \\right)}\\, dx - \\sum_{i=0}^{h} U^{n-1}_{i} \\int \\phi^{n}_{i}{\\left(x \\right)} \\phi^{n-1}_{j}{\\left(x \\right)}\\, dx$"
      ],
      "text/plain": [
       "            h                                       h                          ↪\n",
       "           ____                                    ____                        ↪\n",
       "           ╲                                       ╲                           ↪\n",
       "            ╲                                       ╲                          ↪\n",
       "   2  2  2   ╲       ⌠                               ╲       ⌠                 ↪\n",
       "- c ⋅k ⋅θ ⋅  ╱   Uⁿᵢ⋅⎮ ∇(φⁿᵢ(x))⋅∇(φ_j__n(x)) dx -   ╱   Uⁿᵢ⋅⎮ φⁿᵢ(x)⋅φ_j__n(x ↪\n",
       "            ╱        ⌡                              ╱        ⌡                 ↪\n",
       "           ╱                                       ╱                           ↪\n",
       "           ‾‾‾‾                                    ‾‾‾‾                        ↪\n",
       "           i = 0                                   i = 0                       ↪\n",
       "\n",
       "↪                           h                                                  ↪\n",
       "↪                          ____                                                ↪\n",
       "↪                          ╲                                                   ↪\n",
       "↪                           ╲                                                  ↪\n",
       "↪           2  2             ╲         ⌠                                2  2 ⌠ ↪\n",
       "↪ ) dx = - c ⋅k ⋅θ⋅(θ - 1)⋅  ╱   Uⁿ⁻¹ᵢ⋅⎮ ∇(φⁿᵢ(x))⋅∇(φ_j__n-1(x)) dx - k ⋅θ ⋅⎮ ↪\n",
       "↪                           ╱          ⌡                                     ⌡ ↪\n",
       "↪                          ╱                                                   ↪\n",
       "↪                          ‾‾‾‾                                                ↪\n",
       "↪                          i = 0                                               ↪\n",
       "\n",
       "↪                                                                  h           ↪\n",
       "↪                                                                 ____         ↪\n",
       "↪                                                                 ╲            ↪\n",
       "↪                                                                  ╲           ↪\n",
       "↪                        2           ⌠                              ╲          ↪\n",
       "↪  fⁿ(x)⋅φ_j__n(x) dx + k ⋅θ⋅(θ - 1)⋅⎮ fⁿ⁻¹(x)⋅φ_j__n-1(x) dx - k⋅  ╱   Vⁿ⁻¹ᵢ⋅ ↪\n",
       "↪                                    ⌡                             ╱           ↪\n",
       "↪                                                                 ╱            ↪\n",
       "↪                                                                 ‾‾‾‾         ↪\n",
       "↪                                                                 i = 0        ↪\n",
       "\n",
       "↪                            h                                 \n",
       "↪                           ____                               \n",
       "↪                           ╲                                  \n",
       "↪                            ╲                                 \n",
       "↪ ⌠                           ╲         ⌠                      \n",
       "↪ ⎮ φⁿᵢ(x)⋅φ_j__n-1(x) dx -   ╱   Uⁿ⁻¹ᵢ⋅⎮ φⁿᵢ(x)⋅φ_j__n-1(x) dx\n",
       "↪ ⌡                          ╱          ⌡                      \n",
       "↪                           ╱                                  \n",
       "↪                           ‾‾‾‾                               \n",
       "↪                           i = 0                              "
      ]
     },
     "execution_count": 44,
     "metadata": {},
     "output_type": "execute_result"
    }
   ],
   "source": [
    "def space_discretize(expr: Expr):\n",
    "    if isinstance(expr, Symbol) or isinstance(expr, Number):\n",
    "        return expr\n",
    "    elif not isinstance(expr, Integral):\n",
    "        return expr.func(*map(space_discretize, expr.args))\n",
    "    else:\n",
    "        return space_discretize_integral(expr, time_discr_unknowns, time_discr_knowns)\n",
    "\n",
    "eq_1_f = space_discretize(eq_1_v)\n",
    "eq_1_f"
   ]
  },
  {
   "cell_type": "code",
   "execution_count": 45,
   "id": "f26fd2d3-e3a3-4881-a439-ab7a7c9dcf71",
   "metadata": {},
   "outputs": [
    {
     "data": {
      "text/latex": [
       "$\\displaystyle \\sum_{i=0}^{h} V^{n}_{i} \\int \\phi^{n}_{i}{\\left(x \\right)} \\phi^{n}_{j}{\\left(x \\right)}\\, dx = - c^{2} k \\theta \\sum_{i=0}^{h} U^{n}_{i} \\int ∇{\\left(\\phi^{n}_{i}{\\left(x \\right)} \\right)} ∇{\\left(\\phi^{n}_{j}{\\left(x \\right)} \\right)}\\, dx + c^{2} k \\left(\\theta - 1\\right) \\sum_{i=0}^{h} U^{n-1}_{i} \\int ∇{\\left(\\phi^{n}_{i}{\\left(x \\right)} \\right)} ∇{\\left(\\phi^{n-1}_{j}{\\left(x \\right)} \\right)}\\, dx + k \\theta \\int f^{n}{\\left(x \\right)} \\phi^{n}_{j}{\\left(x \\right)}\\, dx - k \\left(\\theta - 1\\right) \\int f^{n-1}{\\left(x \\right)} \\phi^{n-1}_{j}{\\left(x \\right)}\\, dx + \\sum_{i=0}^{h} V^{n-1}_{i} \\int \\phi^{n}_{i}{\\left(x \\right)} \\phi^{n-1}_{j}{\\left(x \\right)}\\, dx$"
      ],
      "text/plain": [
       " h                                          h                                  ↪\n",
       "____                                       ____                                ↪\n",
       "╲                                          ╲                                   ↪\n",
       " ╲                                          ╲                                  ↪\n",
       "  ╲       ⌠                          2       ╲       ⌠                         ↪\n",
       "  ╱   Vⁿᵢ⋅⎮ φⁿᵢ(x)⋅φ_j__n(x) dx = - c ⋅k⋅θ⋅  ╱   Uⁿᵢ⋅⎮ ∇(φⁿᵢ(x))⋅∇(φ_j__n(x))  ↪\n",
       " ╱        ⌡                                 ╱        ⌡                         ↪\n",
       "╱                                          ╱                                   ↪\n",
       "‾‾‾‾                                       ‾‾‾‾                                ↪\n",
       "i = 0                                      i = 0                               ↪\n",
       "\n",
       "↪                    h                                                         ↪\n",
       "↪                   ____                                                       ↪\n",
       "↪                   ╲                                                          ↪\n",
       "↪                    ╲                                                         ↪\n",
       "↪       2             ╲         ⌠                                   ⌠          ↪\n",
       "↪ dx + c ⋅k⋅(θ - 1)⋅  ╱   Uⁿ⁻¹ᵢ⋅⎮ ∇(φⁿᵢ(x))⋅∇(φ_j__n-1(x)) dx + k⋅θ⋅⎮ fⁿ(x)⋅φ_ ↪\n",
       "↪                    ╱          ⌡                                   ⌡          ↪\n",
       "↪                   ╱                                                          ↪\n",
       "↪                   ‾‾‾‾                                                       ↪\n",
       "↪                   i = 0                                                      ↪\n",
       "\n",
       "↪                                                    h                         ↪\n",
       "↪                                                   ____                       ↪\n",
       "↪                                                   ╲                          ↪\n",
       "↪                                                    ╲                         ↪\n",
       "↪                        ⌠                            ╲         ⌠              ↪\n",
       "↪ j__n(x) dx - k⋅(θ - 1)⋅⎮ fⁿ⁻¹(x)⋅φ_j__n-1(x) dx +   ╱   Vⁿ⁻¹ᵢ⋅⎮ φⁿᵢ(x)⋅φ_j__ ↪\n",
       "↪                        ⌡                           ╱          ⌡              ↪\n",
       "↪                                                   ╱                          ↪\n",
       "↪                                                   ‾‾‾‾                       ↪\n",
       "↪                                                   i = 0                      ↪\n",
       "\n",
       "↪          \n",
       "↪          \n",
       "↪          \n",
       "↪          \n",
       "↪          \n",
       "↪ n-1(x) dx\n",
       "↪          \n",
       "↪          \n",
       "↪          \n",
       "↪          "
      ]
     },
     "execution_count": 45,
     "metadata": {},
     "output_type": "execute_result"
    }
   ],
   "source": [
    "eq_2_f = space_discretize(eq_2_v)\n",
    "eq_2_f"
   ]
  },
  {
   "cell_type": "markdown",
   "id": "868f50a2-3845-4738-81d5-79e6d63b52e5",
   "metadata": {},
   "source": [
    "#### Matrixify Integral"
   ]
  },
  {
   "cell_type": "code",
   "execution_count": 116,
   "id": "84b3f3c3-fff5-4c7e-9223-8da3c67eb66b",
   "metadata": {},
   "outputs": [
    {
     "data": {
      "text/latex": [
       "$\\displaystyle \\left( \\int f^{n}{\\left(x \\right)} \\phi^{n-1}_{j}{\\left(x \\right)}\\, dx, \\  F^{n-1}\\right)$"
      ],
      "text/plain": [
       "⎛⌠                           ⎞\n",
       "⎜⎮ fⁿ(x)⋅φ_j__n-1(x) dx, Fⁿ⁻¹⎟\n",
       "⎝⌡                           ⎠"
      ]
     },
     "execution_count": 116,
     "metadata": {},
     "output_type": "execute_result"
    }
   ],
   "source": [
    "def NCSymbol(*args, **kwargs):\n",
    "    return Symbol(*args, commutative=False, **kwargs)\n",
    "\n",
    "def matrixify_integral(integral: Integral):\n",
    "    assert isinstance(integral, Integral)\n",
    "\n",
    "    l, r = Mul.make_args(integral.args[0])\n",
    "\n",
    "    if l == shape_i_curr and r == shape_j_curr:\n",
    "        return NCSymbol('M^n')\n",
    "    if l == shape_i_curr and r == shape_j_prev:\n",
    "        return NCSymbol('M^n,n-1')\n",
    "    elif l == nabla(shape_i_curr) and r == nabla(shape_j_curr):\n",
    "        return NCSymbol('A^n')\n",
    "    elif l == nabla(shape_i_curr) and r == nabla(shape_j_prev):\n",
    "        return NCSymbol('A^n,n-1')\n",
    "    elif r == shape_j_curr:\n",
    "        assert isinstance(l, Function)\n",
    "        name = str(l.func).split(\"^\")[0]\n",
    "        return NCSymbol(f'{name.upper()}^n')\n",
    "    elif r == shape_j_prev:\n",
    "        assert isinstance(l, Function)\n",
    "        name = str(l.func).split(\"^\")[0]\n",
    "        return NCSymbol(f'{name.upper()}^n-1')\n",
    "        \n",
    "\n",
    "    \n",
    "    raise Exception(f\"Unknown integral to matrixify: {integral}\")\n",
    "\n",
    "integral = Integral(f_curr * shape_j_prev, x)\n",
    "(integral, matrixify_integral(integral))"
   ]
  },
  {
   "cell_type": "code",
   "execution_count": null,
   "id": "3d9278fa-7a92-4515-8a76-9299d6189770",
   "metadata": {},
   "outputs": [],
   "source": [
    "integral = Integral(nabla(shape_i_curr) * nabla(shape_j_curr), x)\n",
    "(integral, matrixify_integral(integral))"
   ]
  },
  {
   "cell_type": "code",
   "execution_count": 105,
   "id": "bbaf9c21-2296-4f39-8c2d-9846c38a121e",
   "metadata": {},
   "outputs": [
    {
     "data": {
      "text/latex": [
       "$\\displaystyle \\left( \\int \\phi^{n}_{i}{\\left(x \\right)} \\phi^{n-1}_{j}{\\left(x \\right)}\\, dx, \\  M^{n,n-1}\\right)$"
      ],
      "text/plain": [
       "⎛⌠                                ⎞\n",
       "⎜⎮ φⁿᵢ(x)⋅φ_j__n-1(x) dx, M__n,n-1⎟\n",
       "⎝⌡                                ⎠"
      ]
     },
     "execution_count": 105,
     "metadata": {},
     "output_type": "execute_result"
    }
   ],
   "source": [
    "integral = Integral(shape_i_curr * shape_j_prev, x)\n",
    "(integral, matrixify_integral(integral))"
   ]
  },
  {
   "cell_type": "code",
   "execution_count": 117,
   "id": "cc305b99-d2da-490e-b569-79ea05cfdbe6",
   "metadata": {},
   "outputs": [
    {
     "data": {
      "text/latex": [
       "$\\displaystyle \\left( \\sum_{i=0}^{h} V^{n}_{i} \\int ∇{\\left(\\phi^{n}_{i}{\\left(x \\right)} \\right)} ∇{\\left(\\phi^{n}_{j}{\\left(x \\right)} \\right)}\\, dx, \\  A^{n} V^{n}\\right)$"
      ],
      "text/plain": [
       "⎛ h                                          ⎞\n",
       "⎜____                                        ⎟\n",
       "⎜╲                                           ⎟\n",
       "⎜ ╲                                          ⎟\n",
       "⎜  ╲       ⌠                                 ⎟\n",
       "⎜  ╱   Vⁿᵢ⋅⎮ ∇(φⁿᵢ(x))⋅∇(φ_j__n(x)) dx, Aⁿ⋅Vⁿ⎟\n",
       "⎜ ╱        ⌡                                 ⎟\n",
       "⎜╱                                           ⎟\n",
       "⎜‾‾‾‾                                        ⎟\n",
       "⎝i = 0                                       ⎠"
      ]
     },
     "execution_count": 117,
     "metadata": {},
     "output_type": "execute_result"
    }
   ],
   "source": [
    "def matrixify_sum(expr: Sum):\n",
    "    assert isinstance(expr, Sum), \"Expression should be a sum.\"\n",
    "    coeff, integral = Mul.make_args(expr.args[0])\n",
    "    assert isinstance(coeff, Symbol)\n",
    "    assert isinstance(integral, Integral)\n",
    "    fns = Mul.make_args(integral.args[0])\n",
    "\n",
    "    coeff = str(coeff)\n",
    "    name = coeff.split('_')[0]\n",
    "    time_step = coeff.split('^')[1]\n",
    "    return matrixify_integral(integral) * Symbol(str(coeff).replace('_i', '').replace('_j', ''), commutative=False)\n",
    "\n",
    "integral = Integral(nabla(v_curr) * nabla(phi), x)\n",
    "sum_ = space_discretize_integral(integral, time_discr_unknowns, time_discr_knowns)\n",
    "sum_, matrixify_sum(sum_)"
   ]
  },
  {
   "cell_type": "code",
   "execution_count": 119,
   "id": "74763b3b-8080-48fd-b7e5-fb21cd9e4cea",
   "metadata": {},
   "outputs": [
    {
     "data": {
      "text/latex": [
       "$\\displaystyle \\left( \\sum_{i=0}^{h} V^{n}_{i} \\int \\phi^{n}_{i}{\\left(x \\right)} \\phi^{n}_{j}{\\left(x \\right)}\\, dx, \\  M^{n} V^{n}\\right)$"
      ],
      "text/plain": [
       "⎛ h                                    ⎞\n",
       "⎜____                                  ⎟\n",
       "⎜╲                                     ⎟\n",
       "⎜ ╲                                    ⎟\n",
       "⎜  ╲       ⌠                           ⎟\n",
       "⎜  ╱   Vⁿᵢ⋅⎮ φⁿᵢ(x)⋅φ_j__n(x) dx, Mⁿ⋅Vⁿ⎟\n",
       "⎜ ╱        ⌡                           ⎟\n",
       "⎜╱                                     ⎟\n",
       "⎜‾‾‾‾                                  ⎟\n",
       "⎝i = 0                                 ⎠"
      ]
     },
     "execution_count": 119,
     "metadata": {},
     "output_type": "execute_result"
    }
   ],
   "source": [
    "(eq_2_f.lhs, matrixify_sum(eq_2_f.lhs))"
   ]
  },
  {
   "cell_type": "code",
   "execution_count": 135,
   "id": "7c9df5fb-79b0-4925-a088-f19085c68dca",
   "metadata": {},
   "outputs": [
    {
     "data": {
      "text/latex": [
       "$\\displaystyle \\left(- c^{2} k^{2} \\theta^{2} A^{n} - M^{n}\\right) U^{n} = - c^{2} k^{2} \\theta \\left(\\theta - 1\\right) A^{n,n-1} U^{n-1} - k^{2} \\theta^{2} F^{n} + k^{2} \\theta \\left(\\theta - 1\\right) F^{n-1} - k M^{n,n-1} V^{n-1} - M^{n,n-1} U^{n-1}$"
      ],
      "text/plain": [
       "⎛   2  2  2        ⎞         2  2                            2  2       2      ↪\n",
       "⎝- c ⋅k ⋅θ ⋅Aⁿ - Mⁿ⎠⋅Uⁿ = - c ⋅k ⋅θ⋅(θ - 1)⋅A__n,n-1⋅Uⁿ⁻¹ - k ⋅θ ⋅Fⁿ + k ⋅θ⋅(θ ↪\n",
       "\n",
       "↪                                             \n",
       "↪  - 1)⋅Fⁿ⁻¹ - k⋅M__n,n-1⋅Vⁿ⁻¹ - M__n,n-1⋅Uⁿ⁻¹"
      ]
     },
     "execution_count": 135,
     "metadata": {},
     "output_type": "execute_result"
    }
   ],
   "source": [
    "def matrixify(expr: Expr):\n",
    "    if isinstance(expr, Symbol) or isinstance(expr, Number):\n",
    "        return expr\n",
    "    if isinstance(expr, Sum):\n",
    "        return matrixify_sum(expr)\n",
    "    elif isinstance(expr, Integral):\n",
    "        return matrixify_integral(expr)\n",
    "    else:\n",
    "        return expr.func(*map(matrixify, expr.args))\n",
    "\n",
    "eq_1_m = factor(matrixify(eq_1_f), deep=True)\n",
    "eq_1_m"
   ]
  },
  {
   "cell_type": "code",
   "execution_count": 134,
   "id": "04b87a8b-5e64-49fd-ae97-33aaf28726af",
   "metadata": {},
   "outputs": [
    {
     "data": {
      "text/latex": [
       "$\\displaystyle M^{n} V^{n} = - c^{2} k \\theta A^{n} U^{n} + c^{2} k \\left(\\theta - 1\\right) A^{n,n-1} U^{n-1} + k \\theta F^{n} - k \\left(\\theta - 1\\right) F^{n-1} + M^{n,n-1} V^{n-1}$"
      ],
      "text/plain": [
       "           2              2                                                    ↪\n",
       "Mⁿ⋅Vⁿ = - c ⋅k⋅θ⋅Aⁿ⋅Uⁿ + c ⋅k⋅(θ - 1)⋅A__n,n-1⋅Uⁿ⁻¹ + k⋅θ⋅Fⁿ - k⋅(θ - 1)⋅Fⁿ⁻¹  ↪\n",
       "\n",
       "↪                \n",
       "↪ + M__n,n-1⋅Vⁿ⁻¹"
      ]
     },
     "execution_count": 134,
     "metadata": {},
     "output_type": "execute_result"
    }
   ],
   "source": [
    "eq_2_m = factor(matrixify(eq_2_f), deep=True)\n",
    "eq_2_m"
   ]
  }
 ],
 "metadata": {
  "kernelspec": {
   "display_name": "Python 3 (ipykernel)",
   "language": "python",
   "name": "python3"
  },
  "language_info": {
   "codemirror_mode": {
    "name": "ipython",
    "version": 3
   },
   "file_extension": ".py",
   "mimetype": "text/x-python",
   "name": "python",
   "nbconvert_exporter": "python",
   "pygments_lexer": "ipython3",
   "version": "3.13.3"
  }
 },
 "nbformat": 4,
 "nbformat_minor": 5
}
